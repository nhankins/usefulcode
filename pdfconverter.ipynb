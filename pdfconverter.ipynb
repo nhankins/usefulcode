{
 "cells": [
  {
   "cell_type": "code",
   "execution_count": null,
   "metadata": {},
   "outputs": [],
   "source": [
    "pip install fpdf"
   ]
  },
  {
   "cell_type": "markdown",
   "metadata": {},
   "source": [
    "Converts txt files to pdf"
   ]
  },
  {
   "cell_type": "code",
   "execution_count": null,
   "metadata": {},
   "outputs": [],
   "source": [
    "\n",
    "\n",
    "from fpdf import FPDF\n",
    "\n",
    "pdf = FPDF()\n",
    "\n",
    "pdf.add_page()\n",
    "\n",
    "pdf.set_font(\"Arial\", size = 15)\n",
    "\n",
    "f = open(\"textconvertertest.txt\", \"r\")\n",
    "\n",
    "for x in f:\n",
    "    pdf.cell(200,10, txt = x, ln = 1, align = 'C')\n",
    "    \n",
    "pdf.output(\"newconvertedtextfile.pdf\")\n",
    "\n",
    "\n"
   ]
  },
  {
   "cell_type": "code",
   "execution_count": null,
   "metadata": {},
   "outputs": [],
   "source": [
    "pip install ipywidgets"
   ]
  },
  {
   "cell_type": "code",
   "execution_count": null,
   "metadata": {},
   "outputs": [],
   "source": [
    "pip install docx2pdf"
   ]
  },
  {
   "cell_type": "markdown",
   "metadata": {},
   "source": [
    "Converts word docs to pdfs"
   ]
  },
  {
   "cell_type": "code",
   "execution_count": null,
   "metadata": {},
   "outputs": [],
   "source": [
    "from docx2pdf import convert\n",
    "\n",
    "convert(\"Filetobeconverted.docx\", \"Fileafterconversion.pdf\")\n",
    "\n",
    "print(\"PDF made\")\n",
    "\n"
   ]
  },
  {
   "cell_type": "code",
   "execution_count": null,
   "metadata": {},
   "outputs": [],
   "source": [
    "pip install img2pdf"
   ]
  },
  {
   "cell_type": "code",
   "execution_count": null,
   "metadata": {},
   "outputs": [],
   "source": [
    "#Code for converting images to pdf \n",
    "#**Note that file has to be in directory to work\n",
    "\"\"\"\n",
    "This code produces a duplicate black and white photo beneath the \n",
    "desired one\n",
    "\"\"\"\n",
    "\n",
    "#import img2pdf\n",
    "\n",
    "#pdfdata = img2pdf.convert(inputfile.jpg)\n",
    "\n",
    "#f = open(\"sunflowers.pdf\",\"wb\")\n",
    "#f.write(img2pdf.convert(\"sunflowers.jpg\"))\n",
    "#f.close()\n",
    "\n",
    "#print(\"PDF Converted\")\n",
    "#create list in pdfdata after convert to do more than one in same pdf\n"
   ]
  },
  {
   "cell_type": "markdown",
   "metadata": {},
   "source": [
    "Converts images to pdfs"
   ]
  },
  {
   "cell_type": "code",
   "execution_count": null,
   "metadata": {},
   "outputs": [],
   "source": [
    "\n",
    "\n",
    "from PIL import Image\n",
    "\n",
    "#Follow comments to add more than one file to pdf\n",
    "\n",
    "image1 = Image.open('Pictobeconverted.JPG')\n",
    "#image2 = Image.open('anotherfile.jpg')\n",
    "\n",
    "im1 = image1.convert('RGB')\n",
    "#im2 = image2.convert('RGB')\n",
    "\n",
    "imagelist = [im1]\n",
    "#imagelist = [im1,im2]\n",
    "\n",
    "\n",
    "im1.save('ConvertedPic.pdf',save_all=True, \n",
    "append_images=imagelist)\n",
    "\n",
    "print(\"PDF made\")"
   ]
  },
  {
   "cell_type": "markdown",
   "metadata": {},
   "source": [
    "Convert pdf to jpg"
   ]
  },
  {
   "cell_type": "code",
   "execution_count": null,
   "metadata": {},
   "outputs": [],
   "source": [
    "pip install pypdf2"
   ]
  },
  {
   "cell_type": "code",
   "execution_count": null,
   "metadata": {},
   "outputs": [],
   "source": [
    "import PyPDF2\n",
    "\n",
    "filename = ('cats1.pdf')\n",
    "\n",
    "with open(filename, mode='rb') as f:\n",
    "    reader = PyPDF2.PdfFileReader(f)\n",
    "    page = reader.getPage(0)\n",
    "    print(page.extractText())\n",
    "    \n",
    "print(\"PDF Made\")"
   ]
  },
  {
   "cell_type": "code",
   "execution_count": null,
   "metadata": {},
   "outputs": [],
   "source": [
    "pip install wand"
   ]
  },
  {
   "cell_type": "code",
   "execution_count": null,
   "metadata": {},
   "outputs": [],
   "source": [
    "#import wand\n",
    "\n",
    "#f = \"cats1.pdf\"\n",
    "#with(Image(filename=f, resolution=120)) as source: \n",
    "    for i, image in enumerate(source.sequence):\n",
    "        newfilename = f[:-4] + str(i + 1) + '.jpeg'\n",
    "        Image(image).save(filename=newfilename)\n",
    "        \n",
    "#print(\"PDF made\")"
   ]
  },
  {
   "cell_type": "code",
   "execution_count": null,
   "metadata": {},
   "outputs": [],
   "source": []
  }
 ],
 "metadata": {
  "kernelspec": {
   "display_name": "Python 3",
   "language": "python",
   "name": "python3"
  },
  "language_info": {
   "codemirror_mode": {
    "name": "ipython",
    "version": 3
   },
   "file_extension": ".py",
   "mimetype": "text/x-python",
   "name": "python",
   "nbconvert_exporter": "python",
   "pygments_lexer": "ipython3",
   "version": "3.8.3"
  }
 },
 "nbformat": 4,
 "nbformat_minor": 4
}
